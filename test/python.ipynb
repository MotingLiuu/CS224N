{
 "cells": [
  {
   "cell_type": "code",
   "execution_count": null,
   "metadata": {},
   "outputs": [
    {
     "data": {
      "text/plain": [
       "[1, 2, 4, 5, 3, 3, 3, 3]"
      ]
     },
     "execution_count": 1,
     "metadata": {},
     "output_type": "execute_result"
    }
   ],
   "source": [
    "a = [1, 2, 4, 5]\n",
    "b = [3, 3, 3, 3]\n",
    "a + b"
   ]
  },
  {
   "cell_type": "code",
   "execution_count": 4,
   "metadata": {},
   "outputs": [
    {
     "name": "stdout",
     "output_type": "stream",
     "text": [
      "tensor([[ 1.5046,  0.1195, -0.4257,  1.1203,  0.2619, -0.1836, -0.0730, -1.0514,\n",
      "          0.3865,  2.3122],\n",
      "        [ 0.0463,  0.0894, -0.6144,  0.5175, -0.4637, -0.4086,  1.1123,  0.6273,\n",
      "          2.0002, -0.3532],\n",
      "        [ 0.6832, -0.0084, -0.1141,  0.0605,  0.3284, -0.9161,  0.8793,  0.4217,\n",
      "          1.1052,  0.3744],\n",
      "        [ 0.0253,  0.0904, -0.9253, -1.4531, -0.2052,  0.6293,  0.9107, -0.5455,\n",
      "          0.5512,  0.3720],\n",
      "        [-0.3300, -1.2554,  0.6658, -0.3134, -0.8837, -0.0548, -0.3641, -1.1933,\n",
      "         -0.0080,  1.0967]]) tensor([[ 0.0000,  0.1493, -0.5321,  1.4004,  0.0000, -0.2294, -0.0913, -0.0000,\n",
      "          0.0000,  2.8903],\n",
      "        [ 0.0000,  0.1117, -0.0000,  0.6469, -0.0000, -0.5107,  1.3903,  0.7841,\n",
      "          0.0000, -0.4415],\n",
      "        [ 0.0000, -0.0105, -0.1426,  0.0756,  0.4105, -1.1451,  0.0000,  0.5272,\n",
      "          1.3815,  0.4680],\n",
      "        [ 0.0316,  0.1130, -1.1566, -0.0000, -0.2565,  0.7867,  1.1384, -0.6819,\n",
      "          0.6889,  0.4650],\n",
      "        [-0.4125, -1.5692,  0.8323, -0.3918, -1.1046, -0.0685, -0.0000, -0.0000,\n",
      "         -0.0000,  1.3708]])\n"
     ]
    }
   ],
   "source": [
    "import torch\n",
    "from torch import nn\n",
    "\n",
    "m = nn.Dropout(p=0.2)\n",
    "input = torch.randn(5, 10)\n",
    "output = m(input)\n",
    "print(input, output)"
   ]
  }
 ],
 "metadata": {
  "kernelspec": {
   "display_name": "CS224N",
   "language": "python",
   "name": "python3"
  },
  "language_info": {
   "codemirror_mode": {
    "name": "ipython",
    "version": 3
   },
   "file_extension": ".py",
   "mimetype": "text/x-python",
   "name": "python",
   "nbconvert_exporter": "python",
   "pygments_lexer": "ipython3",
   "version": "3.9.19"
  }
 },
 "nbformat": 4,
 "nbformat_minor": 2
}
